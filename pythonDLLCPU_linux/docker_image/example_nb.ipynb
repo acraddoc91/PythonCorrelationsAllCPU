{
 "cells": [
  {
   "cell_type": "code",
   "execution_count": null,
   "metadata": {
    "collapsed": true
   },
   "outputs": [],
   "source": [
    "# This is an example notebook to demonstrate how the docker container can be used with Jupyter\n",
    "\n",
    "# Some important things to note: the only directories exposed to the outside world should be /home/rbry,\n",
    "# which is mounted at runtime and the /NAS folder, which contains the lab NAS. If you save anything NOT in these folders\n",
    "# it'll be lost when the container closes\n",
    "#\n",
    "# The /NAS folder should have the same directory structure as it does if you mounted the NAS in windows, i.e. if the NAS\n",
    "# on Windows is the Z: drive and you're trying to get to something in the Z:/Data folder it'll be in /NAS/Data here.\n",
    "# Python doesn't deal well with '\\' to seperate directories (which is what Windows does) so make sure you're using '/'\n",
    "# if you copy a filename/folder name over\n",
    "#\n",
    "# The raw code for all this stuff can be found here: https://github.com/acraddoc91/PythonCorrelationsAllCPU/tree/master/pythonDLLCPU_linux/docker_image\n",
    "#\n",
    "# Due to the way Jupyter works you won't be able to see the block progress in this window, but it will be displayed in the\n",
    "# command window that you started the Docker container from"
   ]
  },
  {
   "cell_type": "code",
   "execution_count": 1,
   "metadata": {},
   "outputs": [],
   "source": [
    "# Import the library which does all the correlations wizardry\n",
    "import corrLib"
   ]
  },
  {
   "cell_type": "code",
   "execution_count": 2,
   "metadata": {},
   "outputs": [
    {
     "name": "stdout",
     "output_type": "stream",
     "text": [
      "Finished in 0.5504283905029297s\n"
     ]
    }
   ],
   "source": [
    "# Example on how to use the processFiles function. This is the function you'll probably want to use most of the time if\n",
    "# you're calculating CW g2 or g3 correlations\n",
    "\n",
    "# Flags which dictate whether g2 and/or g3 processing is performed\n",
    "calc_g2 = True\n",
    "calc_g3 = False\n",
    "\n",
    "# Flag dictates whether the normalisation factor should be calculated\n",
    "calc_norm = True\n",
    "\n",
    "# Flag dictates whether the .mat file will be updated or written from scratch\n",
    "update_mat = True\n",
    "\n",
    "#Flag dictates whether we should calculate the photon counts/rates\n",
    "calc_rates = True\n",
    "\n",
    "#Flag controls wether g2 is calculated pairwise or not\n",
    "pairwise = True\n",
    "\n",
    "# Folder where the data is, remember to include a trailing '/'\n",
    "folder_name = \"/NAS/Data/Correlation Data/test_sandy/\"\n",
    "\n",
    "# Name of outputted .mat file\n",
    "mat_file = \"/NAS/Data/Processed Correlations/test_new\"\n",
    "\n",
    "# These again should be self explanatory\n",
    "max_tau = 1e-6\n",
    "bin_width = 1e-9\n",
    "\n",
    "# This is the normalisation stuff, the coincidences are sampled at the norm_distance. To get good statistics for the\n",
    "# normalisation we do this at a few discrete points: -max_norm_jump*norm_distance, (1-max_norm_jump)*norm_distance...\n",
    "# max_norm_jump*norm_distance. Note: coicidences are not calculated where there might be interesting stuff going on, e.g.\n",
    "# if (n-max_norm_jump) = 0 coincidences will not be calculated\n",
    "norm_distance = 100e-6\n",
    "max_norm_jump = 4\n",
    "\n",
    "#If g2 is to be calculated pairwise this is the lists of channel_1 and channel_2 for the pairwise g2's\n",
    "#g2 is calculated for channel_1[0] and channel_2[0], channel_1[1] and channel_2[1] and so on...\n",
    "channel_1_list = [0,0,1]\n",
    "channel_2_list = [1,2,2]\n",
    "\n",
    "corrLib.processFiles(calc_g2,calc_g3,folder_name,mat_file,max_tau,bin_width,norm_distance,max_norm_jump,calc_norm,update_mat,calc_rates,pairwise,channel_1_list,channel_2_list)"
   ]
  },
  {
   "cell_type": "code",
   "execution_count": 29,
   "metadata": {
    "collapsed": true
   },
   "outputs": [],
   "source": [
    "# Example on how to use the g2ToFile_pulse function. This is the function that calculates 2d coincidences in tau_1 and tau_2\n",
    "# space, where tau_1 and tau_2 are times from some clock line\n",
    "\n",
    "# Folder where the data is, remember to include a trailing '/'\n",
    "folder_name = \"/NAS/Data/Correlation Data/2018/November/29/5us_wait/\"\n",
    "\n",
    "# Name of outputted .mat file\n",
    "mat_file = \"/NAS/Data/Processed Correlations/2018/November/29/5us_wait_1us_bin\"\n",
    "\n",
    "# These should probably be self explanatory\n",
    "min_tau_1 = 0\n",
    "max_tau_1 = 250e-6\n",
    "min_tau_2 = -2*255e-6\n",
    "max_tau_2 = 3*255e-6\n",
    "bin_width = 1e-6\n",
    "\n",
    "# Run the command\n",
    "corrLib.g2ToFile_pulse(folder_name,mat_file,min_tau_1,max_tau_1,min_tau_2,max_tau_2,bin_width)"
   ]
  },
  {
   "cell_type": "code",
   "execution_count": 2,
   "metadata": {},
   "outputs": [
    {
     "name": "stdout",
     "output_type": "stream",
     "text": [
      "Finished in 0.5265505313873291s\n"
     ]
    }
   ],
   "source": [
    "#Example on how to use the countTags function. This function calculates the number of masked and unmasked tags for\n",
    "#each channel in the channel list. Along with the total masked and unmasked time\n",
    "\n",
    "#Folder name to look at\n",
    "folder_name = \"/NAS/Data/Correlation Data/test_sandy/\"\n",
    "#List of channels to look at, these should be defined in the same way as they are on the tagger itself\n",
    "channel_list = [3,5,8]\n",
    "\n",
    "corrLib.countTags(folder_name,channel_list)"
   ]
  },
  {
   "cell_type": "code",
   "execution_count": null,
   "metadata": {},
   "outputs": [],
   "source": []
  }
 ],
 "metadata": {
  "kernelspec": {
   "display_name": "Python 3",
   "language": "python",
   "name": "python3"
  },
  "language_info": {
   "codemirror_mode": {
    "name": "ipython",
    "version": 3
   },
   "file_extension": ".py",
   "mimetype": "text/x-python",
   "name": "python",
   "nbconvert_exporter": "python",
   "pygments_lexer": "ipython3",
   "version": "3.6.7"
  }
 },
 "nbformat": 4,
 "nbformat_minor": 2
}
